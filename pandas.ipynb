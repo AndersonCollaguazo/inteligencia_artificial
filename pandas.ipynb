{
  "nbformat": 4,
  "nbformat_minor": 0,
  "metadata": {
    "colab": {
      "provenance": [],
      "authorship_tag": "ABX9TyP0WhOVlZiLVgO3l0R0jyZ0",
      "include_colab_link": true
    },
    "kernelspec": {
      "name": "python3",
      "display_name": "Python 3"
    },
    "language_info": {
      "name": "python"
    }
  },
  "cells": [
    {
      "cell_type": "markdown",
      "metadata": {
        "id": "view-in-github",
        "colab_type": "text"
      },
      "source": [
        "<a href=\"https://colab.research.google.com/github/AndersonCollaguazo/inteligencia_artificial/blob/main/pandas.ipynb\" target=\"_parent\"><img src=\"https://colab.research.google.com/assets/colab-badge.svg\" alt=\"Open In Colab\"/></a>"
      ]
    },
    {
      "cell_type": "code",
      "execution_count": null,
      "metadata": {
        "id": "3MQi3cQqeiEl",
        "colab": {
          "base_uri": "https://localhost:8080/"
        },
        "outputId": "2c233995-fc18-4d95-dc4d-2e48122f7d37"
      },
      "outputs": [
        {
          "output_type": "stream",
          "name": "stdout",
          "text": [
            "Index(['station_id', 'stationname', 'date', 'daytype', 'rides'], dtype='object')\n"
          ]
        }
      ],
      "source": [
        "import pandas as pd\n",
        "# Use this line to load the dataset.\n",
        "url='https://raw.githubusercontent.com/Sinchiguano/chicagoUniversity/main/cta_Ridership.csv'\n",
        "# your code here\n",
        "rider=pd.read_csv(url)\n",
        "print(rider.columns)"
      ]
    },
    {
      "cell_type": "code",
      "source": [
        "\n",
        "# for basic exploration, we suggest to use shape, head(), tail(), dtypes, type() modules\n",
        "# your code here\n",
        "print(rider.shape)\n",
        "rider.head(10)\n"
      ],
      "metadata": {
        "colab": {
          "base_uri": "https://localhost:8080/",
          "height": 412
        },
        "id": "hETkCLAx4m0Z",
        "outputId": "d2d7c494-3bad-40dc-85bf-fb5db0c0eaf5"
      },
      "execution_count": null,
      "outputs": [
        {
          "output_type": "stream",
          "name": "stdout",
          "text": [
            "(1145586, 4)\n"
          ]
        },
        {
          "output_type": "execute_result",
          "data": {
            "text/plain": [
              "            station_id               stationname daytype  rides\n",
              "date                                                           \n",
              "2017-12-22       41280            Jefferson Park       W   6104\n",
              "2017-12-18       41000          Cermak-Chinatown       W   3636\n",
              "2017-12-02       40280              Central-Lake       A   1270\n",
              "2017-12-19       40140           Dempster-Skokie       W   1759\n",
              "2017-12-03       40690                  Dempster       U    499\n",
              "2017-12-30       41660                Lake/State       A   8615\n",
              "2017-12-17       40180      Oak Park-Forest Park       U    442\n",
              "2017-12-02       40250  Kedzie-Homan-Forest Park       A   1353\n",
              "2017-12-07       40120               35th/Archer       W   3353\n",
              "2017-12-19       41420        Addison-North Main       W   6034"
            ],
            "text/html": [
              "\n",
              "  <div id=\"df-f1d61433-b246-4152-99c2-f542354c79c1\">\n",
              "    <div class=\"colab-df-container\">\n",
              "      <div>\n",
              "<style scoped>\n",
              "    .dataframe tbody tr th:only-of-type {\n",
              "        vertical-align: middle;\n",
              "    }\n",
              "\n",
              "    .dataframe tbody tr th {\n",
              "        vertical-align: top;\n",
              "    }\n",
              "\n",
              "    .dataframe thead th {\n",
              "        text-align: right;\n",
              "    }\n",
              "</style>\n",
              "<table border=\"1\" class=\"dataframe\">\n",
              "  <thead>\n",
              "    <tr style=\"text-align: right;\">\n",
              "      <th></th>\n",
              "      <th>station_id</th>\n",
              "      <th>stationname</th>\n",
              "      <th>daytype</th>\n",
              "      <th>rides</th>\n",
              "    </tr>\n",
              "    <tr>\n",
              "      <th>date</th>\n",
              "      <th></th>\n",
              "      <th></th>\n",
              "      <th></th>\n",
              "      <th></th>\n",
              "    </tr>\n",
              "  </thead>\n",
              "  <tbody>\n",
              "    <tr>\n",
              "      <th>2017-12-22</th>\n",
              "      <td>41280</td>\n",
              "      <td>Jefferson Park</td>\n",
              "      <td>W</td>\n",
              "      <td>6104</td>\n",
              "    </tr>\n",
              "    <tr>\n",
              "      <th>2017-12-18</th>\n",
              "      <td>41000</td>\n",
              "      <td>Cermak-Chinatown</td>\n",
              "      <td>W</td>\n",
              "      <td>3636</td>\n",
              "    </tr>\n",
              "    <tr>\n",
              "      <th>2017-12-02</th>\n",
              "      <td>40280</td>\n",
              "      <td>Central-Lake</td>\n",
              "      <td>A</td>\n",
              "      <td>1270</td>\n",
              "    </tr>\n",
              "    <tr>\n",
              "      <th>2017-12-19</th>\n",
              "      <td>40140</td>\n",
              "      <td>Dempster-Skokie</td>\n",
              "      <td>W</td>\n",
              "      <td>1759</td>\n",
              "    </tr>\n",
              "    <tr>\n",
              "      <th>2017-12-03</th>\n",
              "      <td>40690</td>\n",
              "      <td>Dempster</td>\n",
              "      <td>U</td>\n",
              "      <td>499</td>\n",
              "    </tr>\n",
              "    <tr>\n",
              "      <th>2017-12-30</th>\n",
              "      <td>41660</td>\n",
              "      <td>Lake/State</td>\n",
              "      <td>A</td>\n",
              "      <td>8615</td>\n",
              "    </tr>\n",
              "    <tr>\n",
              "      <th>2017-12-17</th>\n",
              "      <td>40180</td>\n",
              "      <td>Oak Park-Forest Park</td>\n",
              "      <td>U</td>\n",
              "      <td>442</td>\n",
              "    </tr>\n",
              "    <tr>\n",
              "      <th>2017-12-02</th>\n",
              "      <td>40250</td>\n",
              "      <td>Kedzie-Homan-Forest Park</td>\n",
              "      <td>A</td>\n",
              "      <td>1353</td>\n",
              "    </tr>\n",
              "    <tr>\n",
              "      <th>2017-12-07</th>\n",
              "      <td>40120</td>\n",
              "      <td>35th/Archer</td>\n",
              "      <td>W</td>\n",
              "      <td>3353</td>\n",
              "    </tr>\n",
              "    <tr>\n",
              "      <th>2017-12-19</th>\n",
              "      <td>41420</td>\n",
              "      <td>Addison-North Main</td>\n",
              "      <td>W</td>\n",
              "      <td>6034</td>\n",
              "    </tr>\n",
              "  </tbody>\n",
              "</table>\n",
              "</div>\n",
              "      <button class=\"colab-df-convert\" onclick=\"convertToInteractive('df-f1d61433-b246-4152-99c2-f542354c79c1')\"\n",
              "              title=\"Convert this dataframe to an interactive table.\"\n",
              "              style=\"display:none;\">\n",
              "        \n",
              "  <svg xmlns=\"http://www.w3.org/2000/svg\" height=\"24px\"viewBox=\"0 0 24 24\"\n",
              "       width=\"24px\">\n",
              "    <path d=\"M0 0h24v24H0V0z\" fill=\"none\"/>\n",
              "    <path d=\"M18.56 5.44l.94 2.06.94-2.06 2.06-.94-2.06-.94-.94-2.06-.94 2.06-2.06.94zm-11 1L8.5 8.5l.94-2.06 2.06-.94-2.06-.94L8.5 2.5l-.94 2.06-2.06.94zm10 10l.94 2.06.94-2.06 2.06-.94-2.06-.94-.94-2.06-.94 2.06-2.06.94z\"/><path d=\"M17.41 7.96l-1.37-1.37c-.4-.4-.92-.59-1.43-.59-.52 0-1.04.2-1.43.59L10.3 9.45l-7.72 7.72c-.78.78-.78 2.05 0 2.83L4 21.41c.39.39.9.59 1.41.59.51 0 1.02-.2 1.41-.59l7.78-7.78 2.81-2.81c.8-.78.8-2.07 0-2.86zM5.41 20L4 18.59l7.72-7.72 1.47 1.35L5.41 20z\"/>\n",
              "  </svg>\n",
              "      </button>\n",
              "      \n",
              "  <style>\n",
              "    .colab-df-container {\n",
              "      display:flex;\n",
              "      flex-wrap:wrap;\n",
              "      gap: 12px;\n",
              "    }\n",
              "\n",
              "    .colab-df-convert {\n",
              "      background-color: #E8F0FE;\n",
              "      border: none;\n",
              "      border-radius: 50%;\n",
              "      cursor: pointer;\n",
              "      display: none;\n",
              "      fill: #1967D2;\n",
              "      height: 32px;\n",
              "      padding: 0 0 0 0;\n",
              "      width: 32px;\n",
              "    }\n",
              "\n",
              "    .colab-df-convert:hover {\n",
              "      background-color: #E2EBFA;\n",
              "      box-shadow: 0px 1px 2px rgba(60, 64, 67, 0.3), 0px 1px 3px 1px rgba(60, 64, 67, 0.15);\n",
              "      fill: #174EA6;\n",
              "    }\n",
              "\n",
              "    [theme=dark] .colab-df-convert {\n",
              "      background-color: #3B4455;\n",
              "      fill: #D2E3FC;\n",
              "    }\n",
              "\n",
              "    [theme=dark] .colab-df-convert:hover {\n",
              "      background-color: #434B5C;\n",
              "      box-shadow: 0px 1px 3px 1px rgba(0, 0, 0, 0.15);\n",
              "      filter: drop-shadow(0px 1px 2px rgba(0, 0, 0, 0.3));\n",
              "      fill: #FFFFFF;\n",
              "    }\n",
              "  </style>\n",
              "\n",
              "      <script>\n",
              "        const buttonEl =\n",
              "          document.querySelector('#df-f1d61433-b246-4152-99c2-f542354c79c1 button.colab-df-convert');\n",
              "        buttonEl.style.display =\n",
              "          google.colab.kernel.accessAllowed ? 'block' : 'none';\n",
              "\n",
              "        async function convertToInteractive(key) {\n",
              "          const element = document.querySelector('#df-f1d61433-b246-4152-99c2-f542354c79c1');\n",
              "          const dataTable =\n",
              "            await google.colab.kernel.invokeFunction('convertToInteractive',\n",
              "                                                     [key], {});\n",
              "          if (!dataTable) return;\n",
              "\n",
              "          const docLinkHtml = 'Like what you see? Visit the ' +\n",
              "            '<a target=\"_blank\" href=https://colab.research.google.com/notebooks/data_table.ipynb>data table notebook</a>'\n",
              "            + ' to learn more about interactive tables.';\n",
              "          element.innerHTML = '';\n",
              "          dataTable['output_type'] = 'display_data';\n",
              "          await google.colab.output.renderOutput(dataTable, element);\n",
              "          const docLink = document.createElement('div');\n",
              "          docLink.innerHTML = docLinkHtml;\n",
              "          element.appendChild(docLink);\n",
              "        }\n",
              "      </script>\n",
              "    </div>\n",
              "  </div>\n",
              "  "
            ]
          },
          "metadata": {},
          "execution_count": 33
        }
      ]
    },
    {
      "cell_type": "code",
      "source": [
        "# use the describe module\n",
        "# your code here\n",
        "rider['rides'].describe()"
      ],
      "metadata": {
        "colab": {
          "base_uri": "https://localhost:8080/"
        },
        "id": "Z0lkNRHK4s5I",
        "outputId": "7dc0c829-9131-48ee-f895-4ed941a156b4"
      },
      "execution_count": null,
      "outputs": [
        {
          "output_type": "execute_result",
          "data": {
            "text/plain": [
              "count    1.145586e+06\n",
              "mean     3.056635e+03\n",
              "std      3.118576e+03\n",
              "min      0.000000e+00\n",
              "25%      9.630000e+02\n",
              "50%      2.004000e+03\n",
              "75%      4.025000e+03\n",
              "max      3.632300e+04\n",
              "Name: rides, dtype: float64"
            ]
          },
          "metadata": {},
          "execution_count": 34
        }
      ]
    },
    {
      "cell_type": "code",
      "source": [
        "# use the min() and max() modules\n",
        "# your code here\n",
        "rider['rides'].min()\n"
      ],
      "metadata": {
        "colab": {
          "base_uri": "https://localhost:8080/"
        },
        "id": "hIVgQMWb5Gqg",
        "outputId": "4b5d8cff-d315-4323-e6df-7d7678e64fa8"
      },
      "execution_count": null,
      "outputs": [
        {
          "output_type": "execute_result",
          "data": {
            "text/plain": [
              "0"
            ]
          },
          "metadata": {},
          "execution_count": 36
        }
      ]
    },
    {
      "cell_type": "code",
      "source": [
        "rider['rides'].max()"
      ],
      "metadata": {
        "colab": {
          "base_uri": "https://localhost:8080/"
        },
        "id": "E-OG95Nz5N5-",
        "outputId": "56db9dae-4bb6-4620-f5e4-0e469bdc7339"
      },
      "execution_count": null,
      "outputs": [
        {
          "output_type": "execute_result",
          "data": {
            "text/plain": [
              "36323"
            ]
          },
          "metadata": {},
          "execution_count": 35
        }
      ]
    },
    {
      "cell_type": "markdown",
      "source": [
        "Create a Time Index\n",
        "\n",
        "So we have all rides from January 1, 2001 to December 31, 2019. Let's do some statistics that group ride statistics by date. First we need to tell Pandas that the date column is in fact a date. So, we convert the column to a proper 'DateTime' type, and then set the index to this column.\n",
        "\n",
        "This step takes a little bit of time!\n",
        "\n",
        "The following picture show the desired output"
      ],
      "metadata": {
        "id": "hdIK8HcUJz6a"
      }
    },
    {
      "cell_type": "code",
      "source": [
        "#rider.index = pd.to_datetime(rider.index)\n",
        "#print(rider.head(10))\n",
        "# Convertir la columna 'date' a tipo de dato 'DateTime'\n",
        "#rider['date'] = pd.to_datetime(rider['date'])\n",
        "\n",
        "# Establecer la columna 'date' como índice\n",
        "#rider.set_index('date', inplace=True)\n",
        "print(rider.columns)"
      ],
      "metadata": {
        "colab": {
          "base_uri": "https://localhost:8080/"
        },
        "id": "_-xT_3kaI7Ei",
        "outputId": "8a0c9bd3-2254-4da7-d02c-ee05dcbd6ada"
      },
      "execution_count": null,
      "outputs": [
        {
          "output_type": "stream",
          "name": "stdout",
          "text": [
            "Index(['station_id', 'stationname', 'daytype', 'rides'], dtype='object')\n"
          ]
        }
      ]
    },
    {
      "cell_type": "code",
      "source": [
        "3\n"
      ],
      "metadata": {
        "id": "12x84HwhJmky"
      },
      "execution_count": null,
      "outputs": []
    }
  ]
}