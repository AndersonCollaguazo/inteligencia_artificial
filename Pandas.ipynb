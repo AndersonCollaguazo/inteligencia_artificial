{
  "nbformat": 4,
  "nbformat_minor": 0,
  "metadata": {
    "colab": {
      "provenance": [],
      "authorship_tag": "ABX9TyMeVAiKYGxcLdWfT4QnI73w",
      "include_colab_link": true
    },
    "kernelspec": {
      "name": "python3",
      "display_name": "Python 3"
    },
    "language_info": {
      "name": "python"
    }
  },
  "cells": [
    {
      "cell_type": "markdown",
      "metadata": {
        "id": "view-in-github",
        "colab_type": "text"
      },
      "source": [
        "<a href=\"https://colab.research.google.com/github/AndersonCollaguazo/inteligencia_artificial/blob/main/Pandas.ipynb\" target=\"_parent\"><img src=\"https://colab.research.google.com/assets/colab-badge.svg\" alt=\"Open In Colab\"/></a>"
      ]
    },
    {
      "cell_type": "code",
      "execution_count": 102,
      "metadata": {
        "id": "3MQi3cQqeiEl",
        "colab": {
          "base_uri": "https://localhost:8080/"
        },
        "outputId": "8fc9a298-27d3-4e74-c204-5dfdd998dca0"
      },
      "outputs": [
        {
          "output_type": "stream",
          "name": "stdout",
          "text": [
            "Index(['station_id', 'stationname', 'date', 'daytype', 'rides'], dtype='object')\n"
          ]
        }
      ],
      "source": [
        "import pandas as pd\n",
        "# Use this line to load the dataset.\n",
        "url='https://raw.githubusercontent.com/Sinchiguano/chicagoUniversity/main/cta_Ridership.csv'\n",
        "# your code here\n",
        "rider=pd.read_csv(url)\n",
        "print(rider.columns)"
      ]
    },
    {
      "cell_type": "code",
      "source": [
        "\n",
        "# for basic exploration, we suggest to use shape, head(), tail(), dtypes, type() modules\n",
        "# your code here\n",
        "print(rider.head)\n",
        "print(rider.columns)\n"
      ],
      "metadata": {
        "colab": {
          "base_uri": "https://localhost:8080/"
        },
        "id": "hETkCLAx4m0Z",
        "outputId": "eb41abed-394a-41a4-9fa8-f28054c5d9eb"
      },
      "execution_count": 103,
      "outputs": [
        {
          "output_type": "stream",
          "name": "stdout",
          "text": [
            "<bound method NDFrame.head of          station_id        stationname        date daytype  rides\n",
            "0             41280     Jefferson Park  12/22/2017       W   6104\n",
            "1             41000   Cermak-Chinatown  12/18/2017       W   3636\n",
            "2             40280       Central-Lake  12/02/2017       A   1270\n",
            "3             40140    Dempster-Skokie  12/19/2017       W   1759\n",
            "4             40690           Dempster  12/03/2017       U    499\n",
            "...             ...                ...         ...     ...    ...\n",
            "1145581       41700  Washington/Wabash  12/27/2022       W   3991\n",
            "1145582       41700  Washington/Wabash  12/28/2022       W   4100\n",
            "1145583       41700  Washington/Wabash  12/29/2022       W   4741\n",
            "1145584       41700  Washington/Wabash  12/30/2022       W   4664\n",
            "1145585       41700  Washington/Wabash  12/31/2022       A   2774\n",
            "\n",
            "[1145586 rows x 5 columns]>\n",
            "Index(['station_id', 'stationname', 'date', 'daytype', 'rides'], dtype='object')\n"
          ]
        }
      ]
    },
    {
      "cell_type": "code",
      "source": [
        "# use the describe module\n",
        "# your code here\n",
        "rider['rides'].describe()"
      ],
      "metadata": {
        "colab": {
          "base_uri": "https://localhost:8080/"
        },
        "id": "Z0lkNRHK4s5I",
        "outputId": "1cbb11bc-1679-403d-d675-b71c3e0ffbc3"
      },
      "execution_count": 104,
      "outputs": [
        {
          "output_type": "execute_result",
          "data": {
            "text/plain": [
              "count    1.145586e+06\n",
              "mean     3.056635e+03\n",
              "std      3.118576e+03\n",
              "min      0.000000e+00\n",
              "25%      9.630000e+02\n",
              "50%      2.004000e+03\n",
              "75%      4.025000e+03\n",
              "max      3.632300e+04\n",
              "Name: rides, dtype: float64"
            ]
          },
          "metadata": {},
          "execution_count": 104
        }
      ]
    },
    {
      "cell_type": "code",
      "source": [
        "# use the min() and max() modules\n",
        "# your code here\n",
        "print('Min: ',rider['rides'].min())\n",
        "print('Max: ',rider['rides'].max())"
      ],
      "metadata": {
        "colab": {
          "base_uri": "https://localhost:8080/"
        },
        "id": "hIVgQMWb5Gqg",
        "outputId": "45bb442f-3450-4ebc-d2bc-aaaa2df670d3"
      },
      "execution_count": 105,
      "outputs": [
        {
          "output_type": "stream",
          "name": "stdout",
          "text": [
            "Min:  0\n",
            "Max:  36323\n"
          ]
        }
      ]
    },
    {
      "cell_type": "code",
      "source": [
        "\n",
        "#Create a Time Index\n",
        "#So we have all rides from January 1, 2001 to December 31, 2019. Let's do some statistics that group ride statistics by date. First we need to tell Pandas that the date column is in fact a date. So, we convert the column to a proper 'DateTime' type, and then set the index to this column.\n",
        "\n",
        "#This step takes a little bit of time!\n",
        "#The following picture show the desired output\n",
        "\n",
        "# Convertir la columna 'date' a tipo de dato 'DateTime'\n",
        "rider['date'] = pd.to_datetime(rider['date'])\n",
        "\n",
        "# Filtrar los datos desde el 1 de enero de 2001 hasta el 31 de diciembre de 2019\n",
        "start_date = pd.to_datetime('2001-01-01')\n",
        "end_date = pd.to_datetime('2019-12-31')\n",
        "filtered_rider = rider[(rider['date'] >= start_date) & (rider['date'] <= end_date)]\n",
        "\n",
        "# Establecer la columna 'date' como índice\n",
        "filtered_rider.set_index('date', inplace=True)\n",
        "\n",
        "# Imprimir los datos filtrados del DataFrame\n",
        "print(filtered_rider)"
      ],
      "metadata": {
        "colab": {
          "base_uri": "https://localhost:8080/"
        },
        "id": "FeSERrbyUo40",
        "outputId": "eef41641-211e-4d6e-9416-32aa2a82fff8"
      },
      "execution_count": 106,
      "outputs": [
        {
          "output_type": "stream",
          "name": "stdout",
          "text": [
            "            station_id       stationname daytype  rides\n",
            "date                                                   \n",
            "2017-12-22       41280    Jefferson Park       W   6104\n",
            "2017-12-18       41000  Cermak-Chinatown       W   3636\n",
            "2017-12-02       40280      Central-Lake       A   1270\n",
            "2017-12-19       40140   Dempster-Skokie       W   1759\n",
            "2017-12-03       40690          Dempster       U    499\n",
            "...                ...               ...     ...    ...\n",
            "2008-07-03       40030      Pulaski-Lake       W   2523\n",
            "2014-04-25       40760         Granville       W   5085\n",
            "2010-12-22       40830              18th       W   1464\n",
            "2009-05-13       40040      Quincy/Wells       W   7269\n",
            "2004-10-01       41240    Addison-O'Hare       W   3099\n",
            "\n",
            "[988858 rows x 4 columns]\n"
          ]
        }
      ]
    }
  ]
}