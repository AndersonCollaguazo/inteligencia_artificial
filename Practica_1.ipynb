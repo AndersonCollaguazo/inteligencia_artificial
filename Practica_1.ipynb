{
  "nbformat": 4,
  "nbformat_minor": 0,
  "metadata": {
    "colab": {
      "provenance": [],
      "authorship_tag": "ABX9TyM9E6TBP1fQEl2pRXsPInvj",
      "include_colab_link": true
    },
    "kernelspec": {
      "name": "python3",
      "display_name": "Python 3"
    },
    "language_info": {
      "name": "python"
    }
  },
  "cells": [
    {
      "cell_type": "markdown",
      "metadata": {
        "id": "view-in-github",
        "colab_type": "text"
      },
      "source": [
        "<a href=\"https://colab.research.google.com/github/AndersonCollaguazo/inteligencia_artificial/blob/main/Practica_1.ipynb\" target=\"_parent\"><img src=\"https://colab.research.google.com/assets/colab-badge.svg\" alt=\"Open In Colab\"/></a>"
      ]
    },
    {
      "cell_type": "code",
      "execution_count": 4,
      "metadata": {
        "id": "R4_RIOCFxJ69",
        "outputId": "9a7a5ca3-3a05-42b3-afc1-68a8695f6f6a",
        "colab": {
          "base_uri": "https://localhost:8080/"
        }
      },
      "outputs": [
        {
          "output_type": "stream",
          "name": "stdout",
          "text": [
            "Python 3.10.12\n"
          ]
        }
      ],
      "source": [
        "!python --version\n"
      ]
    },
    {
      "cell_type": "code",
      "source": [
        "sample1=10\n",
        "sample2=16.6\n",
        "sample3='Anderson'\n",
        "\n",
        "print(type(sample1))\n",
        "print(type(sample2))\n",
        "print(type(sample3))\n",
        "print(sample1+sample2)\n",
        "print(sample1*sample2)\n",
        "print(sample1**2)\n",
        "\n",
        "s1=True\n",
        "s2=False\n",
        "\n",
        "print(s1 and 52)\n",
        "print(s1 or s2)\n",
        "print(not s1)\n",
        "print(len(sample3))\n",
        "print(sample3.upper())\n",
        "print(sample3.lower())\n",
        "\n"
      ],
      "metadata": {
        "colab": {
          "base_uri": "https://localhost:8080/"
        },
        "id": "g6UHxqHDl2tu",
        "outputId": "f952c252-d74a-487d-f143-3cf7958e162b"
      },
      "execution_count": 5,
      "outputs": [
        {
          "output_type": "stream",
          "name": "stdout",
          "text": [
            "<class 'int'>\n",
            "<class 'float'>\n",
            "<class 'str'>\n",
            "26.6\n",
            "166.0\n",
            "100\n",
            "52\n",
            "True\n",
            "False\n",
            "8\n",
            "ANDERSON\n",
            "anderson\n"
          ]
        }
      ]
    },
    {
      "cell_type": "markdown",
      "source": [
        "# LISTAS\n"
      ],
      "metadata": {
        "id": "oVFoUMNxpQWT"
      }
    },
    {
      "cell_type": "code",
      "source": [
        "# Mostrar los datos dentro del arreglo y mostrar el tipo de dato\n",
        "mi_lista = [1000, 'Hola', 3.14, True, ['a', 'b', 'c']]\n",
        "\n",
        "for elemento in mi_lista:\n",
        "    print('-> ',elemento, ' Tipo de dato: ', type(elemento))\n",
        "\n",
        "# Imprimir arreglo de arreglo\n",
        "print('+-------------------------------------------------+')\n",
        "print('-> ', mi_lista[4][0]) # 'a'\n",
        "print('-> ', mi_lista[4][1]) # 'c'\n",
        "print('-> ', mi_lista[4][2]) # 'b'\n",
        "\n",
        "# Métodos de las listas\n",
        "print('+-------------------------------------------------+')\n",
        "\n",
        "# append(): Agregar un elemento al final de la lista\n",
        "mi_lista.append('Nuevo elemento')\n",
        "print(mi_lista)\n",
        "\n",
        "# extend(): Extender la lista agregando los elementos de otra lista\n",
        "mi_lista.extend(['x', 'y', 'z'])\n",
        "print(mi_lista)\n",
        "\n",
        "# insert(): Insertar un elemento en una posición específica\n",
        "mi_lista.insert(2, 'Insertado')\n",
        "print(mi_lista)\n",
        "\n",
        "# remove(): Eliminar un elemento de la lista por su valor\n",
        "mi_lista.remove('Hola')\n",
        "print(mi_lista)\n",
        "\n",
        "# pop(): Eliminar y devolver el último elemento de la lista\n",
        "ultimo_elemento = mi_lista.pop()\n",
        "print('Último elemento eliminado:', ultimo_elemento)\n",
        "print(mi_lista)\n",
        "\n",
        "# index(): Obtener el índice de un elemento en la lista\n",
        "indice = mi_lista.index(3.14)\n",
        "print('Índice de 3.14:', indice)\n",
        "\n",
        "# count(): Contar la cantidad de veces que aparece un elemento en la lista\n",
        "conteo = mi_lista.count('Insertado')\n",
        "print('Cantidad de veces que aparece \"Insertado\":', conteo)\n",
        "\n",
        "# reverse(): Invertir el orden de los elementos en la lista\n",
        "mi_lista.reverse()\n",
        "print(mi_lista)\n",
        "\n",
        "# sort(): Ordenar la lista en orden ascendente (solo si los elementos son comparables)\n",
        ""
      ],
      "metadata": {
        "colab": {
          "base_uri": "https://localhost:8080/"
        },
        "id": "KVLdjyZkqliH",
        "outputId": "4304f0b7-bf64-481b-e4ea-946cf59b651e"
      },
      "execution_count": 17,
      "outputs": [
        {
          "output_type": "stream",
          "name": "stdout",
          "text": [
            "->  1000  Tipo de dato:  <class 'int'>\n",
            "->  Hola  Tipo de dato:  <class 'str'>\n",
            "->  3.14  Tipo de dato:  <class 'float'>\n",
            "->  True  Tipo de dato:  <class 'bool'>\n",
            "->  ['a', 'b', 'c']  Tipo de dato:  <class 'list'>\n",
            "+-------------------------------------------------+\n",
            "->  a\n",
            "->  b\n",
            "->  c\n",
            "+-------------------------------------------------+\n",
            "[1000, 'Hola', 3.14, True, ['a', 'b', 'c'], 'Nuevo elemento']\n",
            "[1000, 'Hola', 3.14, True, ['a', 'b', 'c'], 'Nuevo elemento', 'x', 'y', 'z']\n",
            "[1000, 'Hola', 'Insertado', 3.14, True, ['a', 'b', 'c'], 'Nuevo elemento', 'x', 'y', 'z']\n",
            "[1000, 'Insertado', 3.14, True, ['a', 'b', 'c'], 'Nuevo elemento', 'x', 'y', 'z']\n",
            "Último elemento eliminado: z\n",
            "[1000, 'Insertado', 3.14, True, ['a', 'b', 'c'], 'Nuevo elemento', 'x', 'y']\n",
            "Índice de 3.14: 2\n",
            "Cantidad de veces que aparece \"Insertado\": 1\n",
            "['y', 'x', 'Nuevo elemento', ['a', 'b', 'c'], True, 3.14, 'Insertado', 1000]\n"
          ]
        }
      ]
    },
    {
      "cell_type": "markdown",
      "source": [
        "#DICCIONARIOS"
      ],
      "metadata": {
        "id": "lhZX0jOWtmLq"
      }
    },
    {
      "cell_type": "code",
      "source": [
        "mi_diccionario = {'entero': 1000, 'saludo': 'Hola', 'decimal': 3.14, 'booleano': True, 'lista': ['a', 'b', 'c']}\n",
        "\n",
        "# Mostrar los datos dentro del diccionario y mostrar el tipo de dato\n",
        "for clave, valor in mi_diccionario.items():\n",
        "    print('->', clave, ':', valor, 'Tipo de dato:', type(valor))\n",
        "\n",
        "# Acceder a elementos anidados en el diccionario\n",
        "print('+-------------------------------------------------+')\n",
        "print('->', mi_diccionario['lista'][0])  # 'a'\n",
        "print('->', mi_diccionario['lista'][1])  # 'b'\n",
        "print('->', mi_diccionario['lista'][2])  # 'c'\n",
        "\n",
        "# Métodos de los diccionarios\n",
        "print('+-------------------------------------------------+')\n",
        "\n",
        "# Agregar un nuevo par clave-valor al diccionario\n",
        "mi_diccionario['nuevo'] = 'Nuevo elemento'\n",
        "print(mi_diccionario)\n",
        "\n",
        "# Actualizar el diccionario con otro diccionario\n",
        "otro_diccionario = {'letra': 'x', 'otra_letra': 'y', 'ultima_letra': 'z'}\n",
        "mi_diccionario.update(otro_diccionario)\n",
        "print(mi_diccionario)\n",
        "\n",
        "# Eliminar un par clave-valor del diccionario\n",
        "del mi_diccionario['saludo']\n",
        "print(mi_diccionario)\n",
        "\n",
        "# Obtener las claves del diccionario\n",
        "claves = mi_diccionario.keys()\n",
        "print('Claves:', claves)\n",
        "\n",
        "# Obtener los valores del diccionario\n",
        "valores = mi_diccionario.values()\n",
        "print('Valores:', valores)\n"
      ],
      "metadata": {
        "colab": {
          "base_uri": "https://localhost:8080/"
        },
        "id": "sOXEMNTCtsBN",
        "outputId": "25da9628-f918-4965-ac13-7f369bf80947"
      },
      "execution_count": 18,
      "outputs": [
        {
          "output_type": "stream",
          "name": "stdout",
          "text": [
            "-> entero : 1000 Tipo de dato: <class 'int'>\n",
            "-> saludo : Hola Tipo de dato: <class 'str'>\n",
            "-> decimal : 3.14 Tipo de dato: <class 'float'>\n",
            "-> booleano : True Tipo de dato: <class 'bool'>\n",
            "-> lista : ['a', 'b', 'c'] Tipo de dato: <class 'list'>\n",
            "+-------------------------------------------------+\n",
            "-> a\n",
            "-> b\n",
            "-> c\n",
            "+-------------------------------------------------+\n",
            "{'entero': 1000, 'saludo': 'Hola', 'decimal': 3.14, 'booleano': True, 'lista': ['a', 'b', 'c'], 'nuevo': 'Nuevo elemento'}\n",
            "{'entero': 1000, 'saludo': 'Hola', 'decimal': 3.14, 'booleano': True, 'lista': ['a', 'b', 'c'], 'nuevo': 'Nuevo elemento', 'letra': 'x', 'otra_letra': 'y', 'ultima_letra': 'z'}\n",
            "{'entero': 1000, 'decimal': 3.14, 'booleano': True, 'lista': ['a', 'b', 'c'], 'nuevo': 'Nuevo elemento', 'letra': 'x', 'otra_letra': 'y', 'ultima_letra': 'z'}\n",
            "Claves: dict_keys(['entero', 'decimal', 'booleano', 'lista', 'nuevo', 'letra', 'otra_letra', 'ultima_letra'])\n",
            "Valores: dict_values([1000, 3.14, True, ['a', 'b', 'c'], 'Nuevo elemento', 'x', 'y', 'z'])\n"
          ]
        }
      ]
    }
  ]
}